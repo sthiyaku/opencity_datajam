{
 "cells": [
  {
   "cell_type": "code",
   "execution_count": 1,
   "metadata": {
    "ExecuteTime": {
     "end_time": "2023-04-16T19:44:01.210165Z",
     "start_time": "2023-04-16T19:44:01.191408Z"
    }
   },
   "outputs": [],
   "source": [
    "import pyforest\n",
    "import warnings\n",
    "warnings.filterwarnings(\"ignore\")"
   ]
  },
  {
   "cell_type": "code",
   "execution_count": 2,
   "metadata": {
    "ExecuteTime": {
     "end_time": "2023-04-16T19:44:01.799655Z",
     "start_time": "2023-04-16T19:44:01.793304Z"
    }
   },
   "outputs": [],
   "source": [
    "input_date = \"01-Jan-2018\"\n",
    "link = f\"https://account.bbmpgov.in/vsswb/vss00CvStatusData.php?pAction=LoadPaymentGridData&pDateFrom={input_date}&pDateTo=31-Mar-2023&pBudgetHeadID=-1&pWardIDs=300,1,2,3,4,5,6,7,8,9,10,11,12,13,14,15,16,17,18,19,20,21,22,23,24,25,26,27,28,29,30,31,32,33,34,35,36,37,38,39,40,41,42,43,44,45,46,47,48,49,50,51,52,53,54,55,56,57,58,59,60,61,62,63,64,65,66,67,68,69,70,71,72,73,74,75,76,77,78,79,80,81,82,83,84,85,86,87,88,89,90,91,92,93,94,95,96,97,98,99,100,101,102,103,104,105,106,107,108,109,110,111,112,113,114,115,116,117,118,119,120,121,122,123,124,125,126,127,128,129,130,131,132,133,134,135,136,137,138,139,140,141,142,143,144,145,146,147,148,149,150,151,152,153,154,155,156,157,158,159,160,161,162,163,164,165,166,167,168,169,170,171,172,173,174,175,176,177,178,179,180,181,182,183,184,185,186,187,188,189,190,191,192,193,194,195,196,197,198,301,302,303,304,305,306,307,308,309,310,311,312,313,314,315&pDDOID=-1&pDDOIDs=15,16,17,18,19,20,21,22,23,24,25,26,27,28,29,30,31,32,33,34,35,36,37,38,39,40,41,42,43,44,45,46,47,48,49,50,51,52,53,54,55,56,57,58,59,60,61,62,63,64,65,66,67,68,69,70,71,72,73,74,75,76,77,78,79,80,81,82,83,84,85,86,87,88,89,90,91,92,93,94,95,96,97,98,99,100,101,102,103,104,105,106,107,108,109,110,111,112,113,114,115,116,117,118,119,120,121,122,123,124,125,126,127,128,129,130,131,132,133,134,135,136,137,138,139,140,141,142,143,144,145,146,147,148,149,150,151,152,153,154,155,156,157,158,159,160,161,162,163,164,165,166,167,168,169,170,171,172,173,174,175,176,177,178,179,180,181,182,183,184,185,186,187,188,189,190,191,192,193,194,195,196,197,198,199,200,201,202,203,204,205,206,207,208,209,210,211,212,213,214,215,216,217,218,219,220,221,222,223,224,225,226,227,228,229,230,231,232,233,234,235,236,237,238,239,240,241,242,243,244,245,246,247,248,249,250,251,252,253,254,255,256,257,258,259,260,261,262,263,264,265,266,267,268,269,270,271,272,273,274,275,276,277,278,279,280,281,282,283,284,285,286,287,288,289,290,291,292,293,294,295,296,297,298,299,300,301,302,303,304,305,306,307,308,309,310,311,312,313,314,315,316,317,318,319,320,321,322,323,324,325,326,327,328,329,330,331,332,333,334,335,336,337,338,339,340,341,342,343,344,345,346,347,348,349,350,351,352,353,354,355,356,357,358,359,360,361,362,363,364,365,366,367,368,369,370,371,372,373,374,375,376,377,378,379,380,381,382,383,384,385,386,387,388,389,390,391,392,393,394,395,396,397,398,399,400,401,402,403,404,405,406,407,408,409,410,411,412,413,414,415,416,417,418,419,420,421,422,423,424,425,426,427,428,429,430,431,432,433,434,435,436,437,438,439,440,441,442,443,444,445,446,447,448,449,450,451,452,453,454,455,456,457,458,459,460,461,462,463,464,465,466,467,468,469,470,471,472,473,474,475,476,477,478,479,480,481,482,483,484,485,486,487,488,489,490,491,492,493,494,495,496,497,498,499,500,502,503,504,505,506,507,508,509,510,511,512,513,514,515,516,517,518,519,520,521,522,523,524,525,526,527,528,529,530,531,532,533,534,535,536,537,538,539,540,541,542,543,545,546,547,548,549,550,551,552,553,554,555,556,557,558,559,560,561,563,564,566,567,568,569,570,571,572,573,574,575,576,577,578,581,583,584,585,586,587,588,590,591,592,593,594,595,597,598,599,600,601,602,603,604,605,606,607,608,708,709,710,711,712,713,714,715,716,717,718,719,720,721,722,723,724,725,726,727,728,729,730,731,732,733,734,735,736,737,738,739,740,741,742,743,744,745,746,747,748,749,750,751,752,753,754,755,756,757,758,759,761,762,763,764,765,766,767,768,769,770,771,772,773,774,775,776,777,778,779,780,781,782,783,784,785,786,787,788,789,790,791,792,793,794,795,796,797,798,799,800,801,802,803,804,805,806,807,808,809,810,811,812,760,580&filterscount=0&groupscount=0&sortorder=&pagenum=0&pagesize=5&recordstartindex=0&recordendindex=5&_=1502250689374\".format(input_date)"
   ]
  },
  {
   "cell_type": "code",
   "execution_count": 3,
   "metadata": {
    "ExecuteTime": {
     "end_time": "2023-04-16T19:44:05.650610Z",
     "start_time": "2023-04-16T19:44:02.513294Z"
    }
   },
   "outputs": [],
   "source": [
    "import requests\n",
    "\n",
    "resp = requests.get(link, verify=False)"
   ]
  },
  {
   "cell_type": "code",
   "execution_count": 4,
   "metadata": {
    "ExecuteTime": {
     "end_time": "2023-04-16T19:44:12.267643Z",
     "start_time": "2023-04-16T19:44:10.994020Z"
    }
   },
   "outputs": [
    {
     "data": {
      "application/javascript": [
       "\n",
       "        if (window._pyforest_update_imports_cell) { window._pyforest_update_imports_cell('import pandas as pd'); }\n",
       "    "
      ],
      "text/plain": [
       "<IPython.core.display.Javascript object>"
      ]
     },
     "metadata": {},
     "output_type": "display_data"
    },
    {
     "data": {
      "text/html": [
       "<div>\n",
       "<style scoped>\n",
       "    .dataframe tbody tr th:only-of-type {\n",
       "        vertical-align: middle;\n",
       "    }\n",
       "\n",
       "    .dataframe tbody tr th {\n",
       "        vertical-align: top;\n",
       "    }\n",
       "\n",
       "    .dataframe thead th {\n",
       "        text-align: right;\n",
       "    }\n",
       "</style>\n",
       "<table border=\"1\" class=\"dataframe\">\n",
       "  <thead>\n",
       "    <tr style=\"text-align: right;\">\n",
       "      <th></th>\n",
       "      <th>slno</th>\n",
       "      <th>id</th>\n",
       "      <th>wodetails</th>\n",
       "      <th>contractor</th>\n",
       "      <th>brnumber</th>\n",
       "      <th>amount</th>\n",
       "      <th>nett</th>\n",
       "      <th>deduction</th>\n",
       "    </tr>\n",
       "  </thead>\n",
       "  <tbody>\n",
       "    <tr>\n",
       "      <th>28384</th>\n",
       "      <td>28385</td>\n",
       "      <td>204114</td>\n",
       "      <td>&lt;a href=\"#\" onclick=\"vssFillData(204114,'194-1...</td>\n",
       "      <td>Nallur Nagaraju&lt;br/&gt;9880940728</td>\n",
       "      <td>BR - 000332 / 13-Dec-2018&lt;br/&gt;CBR -  / &lt;br/&gt;Rt...</td>\n",
       "      <td>1950000</td>\n",
       "      <td>1698828</td>\n",
       "      <td>251172</td>\n",
       "    </tr>\n",
       "    <tr>\n",
       "      <th>24755</th>\n",
       "      <td>24756</td>\n",
       "      <td>203325</td>\n",
       "      <td>&lt;a href=\"#\" onclick=\"vssFillData(203325,'188-1...</td>\n",
       "      <td>K Ravi&lt;br/&gt;9886011198</td>\n",
       "      <td>BR - 000153 / 30-Oct-2018&lt;br/&gt;CBR - 001972 / 1...</td>\n",
       "      <td>2486845</td>\n",
       "      <td>2234043</td>\n",
       "      <td>252802</td>\n",
       "    </tr>\n",
       "    <tr>\n",
       "      <th>5143</th>\n",
       "      <td>5144</td>\n",
       "      <td>75645</td>\n",
       "      <td>&lt;a href=\"#\" onclick=\"vssFillData(75645,'181-17...</td>\n",
       "      <td>KRIDL&lt;br/&gt;9986697126</td>\n",
       "      <td>BR - 000316 / 28-Oct-2016&lt;br/&gt;CBR - 002834 / 2...</td>\n",
       "      <td>2957267</td>\n",
       "      <td>2478000</td>\n",
       "      <td>479267</td>\n",
       "    </tr>\n",
       "    <tr>\n",
       "      <th>26809</th>\n",
       "      <td>26810</td>\n",
       "      <td>404075</td>\n",
       "      <td>&lt;a href=\"#\" onclick=\"vssFillData(404075,'304-1...</td>\n",
       "      <td>ALCON CONSULTING ENG&lt;br/&gt;9844004676</td>\n",
       "      <td>BR - 000100 / 28-Jan-2021&lt;br/&gt;CBR - 004870 / 0...</td>\n",
       "      <td>2256250</td>\n",
       "      <td>1990335</td>\n",
       "      <td>265915</td>\n",
       "    </tr>\n",
       "    <tr>\n",
       "      <th>13271</th>\n",
       "      <td>13272</td>\n",
       "      <td>171191</td>\n",
       "      <td>&lt;a href=\"#\" onclick=\"vssFillData(171191,'019-1...</td>\n",
       "      <td>KRIDL&lt;br/&gt;8023330521</td>\n",
       "      <td>BR - 000042 / 20-Jun-2018&lt;br/&gt;CBR - 000943 / 2...</td>\n",
       "      <td>499619</td>\n",
       "      <td>458525</td>\n",
       "      <td>41094</td>\n",
       "    </tr>\n",
       "  </tbody>\n",
       "</table>\n",
       "</div>"
      ],
      "text/plain": [
       "        slno      id                                          wodetails  \\\n",
       "28384  28385  204114  <a href=\"#\" onclick=\"vssFillData(204114,'194-1...   \n",
       "24755  24756  203325  <a href=\"#\" onclick=\"vssFillData(203325,'188-1...   \n",
       "5143    5144   75645  <a href=\"#\" onclick=\"vssFillData(75645,'181-17...   \n",
       "26809  26810  404075  <a href=\"#\" onclick=\"vssFillData(404075,'304-1...   \n",
       "13271  13272  171191  <a href=\"#\" onclick=\"vssFillData(171191,'019-1...   \n",
       "\n",
       "                                contractor  \\\n",
       "28384       Nallur Nagaraju<br/>9880940728   \n",
       "24755                K Ravi<br/>9886011198   \n",
       "5143                  KRIDL<br/>9986697126   \n",
       "26809  ALCON CONSULTING ENG<br/>9844004676   \n",
       "13271                 KRIDL<br/>8023330521   \n",
       "\n",
       "                                                brnumber   amount     nett  \\\n",
       "28384  BR - 000332 / 13-Dec-2018<br/>CBR -  / <br/>Rt...  1950000  1698828   \n",
       "24755  BR - 000153 / 30-Oct-2018<br/>CBR - 001972 / 1...  2486845  2234043   \n",
       "5143   BR - 000316 / 28-Oct-2016<br/>CBR - 002834 / 2...  2957267  2478000   \n",
       "26809  BR - 000100 / 28-Jan-2021<br/>CBR - 004870 / 0...  2256250  1990335   \n",
       "13271  BR - 000042 / 20-Jun-2018<br/>CBR - 000943 / 2...   499619   458525   \n",
       "\n",
       "       deduction  \n",
       "28384     251172  \n",
       "24755     252802  \n",
       "5143      479267  \n",
       "26809     265915  \n",
       "13271      41094  "
      ]
     },
     "execution_count": 4,
     "metadata": {},
     "output_type": "execute_result"
    }
   ],
   "source": [
    "df = pd.read_json(resp.text)\n",
    "df.sample(5)"
   ]
  },
  {
   "cell_type": "code",
   "execution_count": 5,
   "metadata": {
    "ExecuteTime": {
     "end_time": "2023-04-16T19:44:17.301751Z",
     "start_time": "2023-04-16T19:44:17.295711Z"
    }
   },
   "outputs": [
    {
     "data": {
      "text/plain": [
       "'<a href=\"#\" onclick=\"vssFillData(132190,\\'174-17-000088\\');\">174-17-000088</a><br/>Construction and Remodeling of SWD 27th main Backside of Masjid in HSR Layout 1st Sector (Agara Village) W N 174 of Bommanahalli Constituency'"
      ]
     },
     "execution_count": 5,
     "metadata": {},
     "output_type": "execute_result"
    }
   ],
   "source": [
    "df.wodetails.values[0]"
   ]
  },
  {
   "cell_type": "code",
   "execution_count": 6,
   "metadata": {
    "ExecuteTime": {
     "end_time": "2023-04-16T19:44:27.537550Z",
     "start_time": "2023-04-16T19:44:27.417280Z"
    }
   },
   "outputs": [],
   "source": [
    "# Extract 'work' from 'wodetails' using regex\n",
    "df['work'] = df['wodetails'].str.replace(r'<.*?>', '', regex=True)\n",
    "\n",
    "# Remove leading/trailing whitespaces\n",
    "df['work'] = df['work'].str.strip()"
   ]
  },
  {
   "cell_type": "code",
   "execution_count": 7,
   "metadata": {
    "ExecuteTime": {
     "end_time": "2023-04-16T19:44:28.004442Z",
     "start_time": "2023-04-16T19:44:27.997443Z"
    }
   },
   "outputs": [
    {
     "data": {
      "text/plain": [
       "'174-17-000088Construction and Remodeling of SWD 27th main Backside of Masjid in HSR Layout 1st Sector (Agara Village) W N 174 of Bommanahalli Constituency'"
      ]
     },
     "execution_count": 7,
     "metadata": {},
     "output_type": "execute_result"
    }
   ],
   "source": [
    "df['work'].values[0]"
   ]
  },
  {
   "cell_type": "code",
   "execution_count": 8,
   "metadata": {
    "ExecuteTime": {
     "end_time": "2023-04-16T19:44:28.657741Z",
     "start_time": "2023-04-16T19:44:28.492649Z"
    }
   },
   "outputs": [],
   "source": [
    "df['work'] = df['work'].str.replace(r'(\\d+-\\d+-\\d+)', '', regex=True)"
   ]
  },
  {
   "cell_type": "code",
   "execution_count": 9,
   "metadata": {
    "ExecuteTime": {
     "end_time": "2023-04-16T19:44:29.438730Z",
     "start_time": "2023-04-16T19:44:29.424921Z"
    }
   },
   "outputs": [
    {
     "data": {
      "text/plain": [
       "'Construction and Remodeling of SWD 27th main Backside of Masjid in HSR Layout 1st Sector (Agara Village) W N 174 of Bommanahalli Constituency'"
      ]
     },
     "execution_count": 9,
     "metadata": {},
     "output_type": "execute_result"
    }
   ],
   "source": [
    "df['work'].values[0]"
   ]
  },
  {
   "cell_type": "code",
   "execution_count": 10,
   "metadata": {
    "ExecuteTime": {
     "end_time": "2023-04-16T19:44:35.156393Z",
     "start_time": "2023-04-16T19:44:35.022768Z"
    }
   },
   "outputs": [],
   "source": [
    "# Split 'contractor' column into 'Name' and 'Number' columns\n",
    "df[['contractor_name', 'number']] = df['contractor'].str.split('<br/>', expand=True)\n",
    "\n",
    "# Remove leading/trailing whitespaces\n",
    "df['contractor_name'] = df['contractor_name'].str.strip()\n",
    "df['number'] = df['number'].str.strip()"
   ]
  },
  {
   "cell_type": "code",
   "execution_count": 11,
   "metadata": {
    "ExecuteTime": {
     "end_time": "2023-04-16T19:44:36.092410Z",
     "start_time": "2023-04-16T19:44:36.060195Z"
    }
   },
   "outputs": [
    {
     "data": {
      "text/html": [
       "<div>\n",
       "<style scoped>\n",
       "    .dataframe tbody tr th:only-of-type {\n",
       "        vertical-align: middle;\n",
       "    }\n",
       "\n",
       "    .dataframe tbody tr th {\n",
       "        vertical-align: top;\n",
       "    }\n",
       "\n",
       "    .dataframe thead th {\n",
       "        text-align: right;\n",
       "    }\n",
       "</style>\n",
       "<table border=\"1\" class=\"dataframe\">\n",
       "  <thead>\n",
       "    <tr style=\"text-align: right;\">\n",
       "      <th></th>\n",
       "      <th>slno</th>\n",
       "      <th>id</th>\n",
       "      <th>wodetails</th>\n",
       "      <th>contractor</th>\n",
       "      <th>brnumber</th>\n",
       "      <th>amount</th>\n",
       "      <th>nett</th>\n",
       "      <th>deduction</th>\n",
       "      <th>work</th>\n",
       "      <th>contractor_name</th>\n",
       "      <th>number</th>\n",
       "    </tr>\n",
       "  </thead>\n",
       "  <tbody>\n",
       "    <tr>\n",
       "      <th>35699</th>\n",
       "      <td>35700</td>\n",
       "      <td>437372</td>\n",
       "      <td>&lt;a href=\"#\" onclick=\"vssFillData(437372,'092-2...</td>\n",
       "      <td>CHANDANA ELECTRICALS&lt;br/&gt;9448016630</td>\n",
       "      <td>BR - 000065 / 24-Jun-2021&lt;br/&gt;CBR -  / &lt;br/&gt;Rt...</td>\n",
       "      <td>1243091</td>\n",
       "      <td>1148917</td>\n",
       "      <td>94174</td>\n",
       "      <td>Operation and Maintenance of street lights at ...</td>\n",
       "      <td>CHANDANA ELECTRICALS</td>\n",
       "      <td>9448016630</td>\n",
       "    </tr>\n",
       "    <tr>\n",
       "      <th>6936</th>\n",
       "      <td>6937</td>\n",
       "      <td>155498</td>\n",
       "      <td>&lt;a href=\"#\" onclick=\"vssFillData(155498,'140-1...</td>\n",
       "      <td>Sree Hari Electricals&lt;br/&gt;9845273024</td>\n",
       "      <td>BR - 000159 / 28-Mar-2018&lt;br/&gt;CBR - 004603 / 0...</td>\n",
       "      <td>975508</td>\n",
       "      <td>876982</td>\n",
       "      <td>98526</td>\n",
       "      <td>Annual Operation And maintenance Of Street Lig...</td>\n",
       "      <td>Sree Hari Electricals</td>\n",
       "      <td>9845273024</td>\n",
       "    </tr>\n",
       "    <tr>\n",
       "      <th>15309</th>\n",
       "      <td>15310</td>\n",
       "      <td>133651</td>\n",
       "      <td>&lt;a href=\"#\" onclick=\"vssFillData(133651,'085-1...</td>\n",
       "      <td>NS Prasad&lt;br/&gt;8884241001</td>\n",
       "      <td>BR - 000179 / 30-Dec-2017&lt;br/&gt;CBR - 002795 / 1...</td>\n",
       "      <td>967591</td>\n",
       "      <td>857608</td>\n",
       "      <td>109983</td>\n",
       "      <td>Providing concrete road to cross roads in Kund...</td>\n",
       "      <td>NS Prasad</td>\n",
       "      <td>8884241001</td>\n",
       "    </tr>\n",
       "    <tr>\n",
       "      <th>40486</th>\n",
       "      <td>40487</td>\n",
       "      <td>352306</td>\n",
       "      <td>&lt;a href=\"#\" onclick=\"vssFillData(352306,'092-1...</td>\n",
       "      <td>S C RAMESH          &lt;br/&gt;9686538999</td>\n",
       "      <td>BR - 000051 / 15-Jul-2020&lt;br/&gt;CBR -  / &lt;br/&gt;Rt...</td>\n",
       "      <td>1863592</td>\n",
       "      <td>1790112</td>\n",
       "      <td>73480</td>\n",
       "      <td>Providing SS Name Boards and M S Name Boards t...</td>\n",
       "      <td>S C RAMESH</td>\n",
       "      <td>9686538999</td>\n",
       "    </tr>\n",
       "    <tr>\n",
       "      <th>16101</th>\n",
       "      <td>16102</td>\n",
       "      <td>244441</td>\n",
       "      <td>&lt;a href=\"#\" onclick=\"vssFillData(244441,'114-1...</td>\n",
       "      <td>M S ENGINEERING CONSTRUCTIONS&lt;br/&gt;8022975812</td>\n",
       "      <td>BR - 000014 / 02-May-2019&lt;br/&gt;CBR - 003754 / 1...</td>\n",
       "      <td>119240</td>\n",
       "      <td>114525</td>\n",
       "      <td>4715</td>\n",
       "      <td>Providing Modren Dust Bin in Bangalore City in...</td>\n",
       "      <td>M S ENGINEERING CONSTRUCTIONS</td>\n",
       "      <td>8022975812</td>\n",
       "    </tr>\n",
       "  </tbody>\n",
       "</table>\n",
       "</div>"
      ],
      "text/plain": [
       "        slno      id                                          wodetails  \\\n",
       "35699  35700  437372  <a href=\"#\" onclick=\"vssFillData(437372,'092-2...   \n",
       "6936    6937  155498  <a href=\"#\" onclick=\"vssFillData(155498,'140-1...   \n",
       "15309  15310  133651  <a href=\"#\" onclick=\"vssFillData(133651,'085-1...   \n",
       "40486  40487  352306  <a href=\"#\" onclick=\"vssFillData(352306,'092-1...   \n",
       "16101  16102  244441  <a href=\"#\" onclick=\"vssFillData(244441,'114-1...   \n",
       "\n",
       "                                         contractor  \\\n",
       "35699           CHANDANA ELECTRICALS<br/>9448016630   \n",
       "6936           Sree Hari Electricals<br/>9845273024   \n",
       "15309                      NS Prasad<br/>8884241001   \n",
       "40486           S C RAMESH          <br/>9686538999   \n",
       "16101  M S ENGINEERING CONSTRUCTIONS<br/>8022975812   \n",
       "\n",
       "                                                brnumber   amount     nett  \\\n",
       "35699  BR - 000065 / 24-Jun-2021<br/>CBR -  / <br/>Rt...  1243091  1148917   \n",
       "6936   BR - 000159 / 28-Mar-2018<br/>CBR - 004603 / 0...   975508   876982   \n",
       "15309  BR - 000179 / 30-Dec-2017<br/>CBR - 002795 / 1...   967591   857608   \n",
       "40486  BR - 000051 / 15-Jul-2020<br/>CBR -  / <br/>Rt...  1863592  1790112   \n",
       "16101  BR - 000014 / 02-May-2019<br/>CBR - 003754 / 1...   119240   114525   \n",
       "\n",
       "       deduction                                               work  \\\n",
       "35699      94174  Operation and Maintenance of street lights at ...   \n",
       "6936       98526  Annual Operation And maintenance Of Street Lig...   \n",
       "15309     109983  Providing concrete road to cross roads in Kund...   \n",
       "40486      73480  Providing SS Name Boards and M S Name Boards t...   \n",
       "16101       4715  Providing Modren Dust Bin in Bangalore City in...   \n",
       "\n",
       "                     contractor_name      number  \n",
       "35699           CHANDANA ELECTRICALS  9448016630  \n",
       "6936           Sree Hari Electricals  9845273024  \n",
       "15309                      NS Prasad  8884241001  \n",
       "40486                     S C RAMESH  9686538999  \n",
       "16101  M S ENGINEERING CONSTRUCTIONS  8022975812  "
      ]
     },
     "execution_count": 11,
     "metadata": {},
     "output_type": "execute_result"
    }
   ],
   "source": [
    "df.sample(5)"
   ]
  },
  {
   "cell_type": "code",
   "execution_count": 12,
   "metadata": {
    "ExecuteTime": {
     "end_time": "2023-04-16T19:44:42.603344Z",
     "start_time": "2023-04-16T19:44:42.486266Z"
    }
   },
   "outputs": [],
   "source": [
    "import re\n",
    "\n",
    "# Define a regular expression pattern to extract the job number\n",
    "pattern = r'vssFillData\\(\\d+,[\\'\"]([\\w-]+)[\\'\"]\\)'\n",
    "\n",
    "# Extract the job number using the regular expression pattern\n",
    "df['job_no'] = df['wodetails'].str.extract(pattern)"
   ]
  },
  {
   "cell_type": "code",
   "execution_count": 13,
   "metadata": {
    "ExecuteTime": {
     "end_time": "2023-04-16T19:44:43.712274Z",
     "start_time": "2023-04-16T19:44:43.674496Z"
    }
   },
   "outputs": [],
   "source": [
    "df['job_no'] = df['job_no'].str.strip()"
   ]
  },
  {
   "cell_type": "code",
   "execution_count": 14,
   "metadata": {
    "ExecuteTime": {
     "end_time": "2023-04-16T19:44:44.763435Z",
     "start_time": "2023-04-16T19:44:44.714139Z"
    }
   },
   "outputs": [
    {
     "data": {
      "text/html": [
       "<div>\n",
       "<style scoped>\n",
       "    .dataframe tbody tr th:only-of-type {\n",
       "        vertical-align: middle;\n",
       "    }\n",
       "\n",
       "    .dataframe tbody tr th {\n",
       "        vertical-align: top;\n",
       "    }\n",
       "\n",
       "    .dataframe thead th {\n",
       "        text-align: right;\n",
       "    }\n",
       "</style>\n",
       "<table border=\"1\" class=\"dataframe\">\n",
       "  <thead>\n",
       "    <tr style=\"text-align: right;\">\n",
       "      <th></th>\n",
       "      <th>slno</th>\n",
       "      <th>id</th>\n",
       "      <th>wodetails</th>\n",
       "      <th>contractor</th>\n",
       "      <th>brnumber</th>\n",
       "      <th>amount</th>\n",
       "      <th>nett</th>\n",
       "      <th>deduction</th>\n",
       "      <th>work</th>\n",
       "      <th>contractor_name</th>\n",
       "      <th>number</th>\n",
       "      <th>job_no</th>\n",
       "    </tr>\n",
       "  </thead>\n",
       "  <tbody>\n",
       "    <tr>\n",
       "      <th>13968</th>\n",
       "      <td>13969</td>\n",
       "      <td>235575</td>\n",
       "      <td>&lt;a href=\"#\" onclick=\"vssFillData(235575,'122-1...</td>\n",
       "      <td>M/s KRIDL&lt;br/&gt;8553333555</td>\n",
       "      <td>BR - 000207 / 11-Mar-2019&lt;br/&gt;CBR - 001590 / 1...</td>\n",
       "      <td>9919000</td>\n",
       "      <td>8640867</td>\n",
       "      <td>1278133</td>\n",
       "      <td>Development of Roads and  Drains in Ward No 12...</td>\n",
       "      <td>M/s KRIDL</td>\n",
       "      <td>8553333555</td>\n",
       "      <td>122-17-000042</td>\n",
       "    </tr>\n",
       "    <tr>\n",
       "      <th>42778</th>\n",
       "      <td>42779</td>\n",
       "      <td>539990</td>\n",
       "      <td>&lt;a href=\"#\" onclick=\"vssFillData(539990,'028-2...</td>\n",
       "      <td>022630 NEWTECHENGINEERS&lt;br/&gt;9880801223</td>\n",
       "      <td>BR - 000107 / 25-Aug-2022&lt;br/&gt;CBR -  / &lt;br/&gt;Rt...</td>\n",
       "      <td>655475</td>\n",
       "      <td>608469</td>\n",
       "      <td>47006</td>\n",
       "      <td>Operation and Maintenance of Street lights com...</td>\n",
       "      <td>022630 NEWTECHENGINEERS</td>\n",
       "      <td>9880801223</td>\n",
       "      <td>028-22-000002</td>\n",
       "    </tr>\n",
       "    <tr>\n",
       "      <th>3255</th>\n",
       "      <td>3256</td>\n",
       "      <td>53509</td>\n",
       "      <td>&lt;a href=\"#\" onclick=\"vssFillData(53509,'068-16...</td>\n",
       "      <td>Krishnegowda&lt;br/&gt;9845003091</td>\n",
       "      <td>BR - 000429 / 11-Aug-2016&lt;br/&gt;CBR - 000925 / 0...</td>\n",
       "      <td>699833</td>\n",
       "      <td>609113</td>\n",
       "      <td>90720</td>\n",
       "      <td>Construction of Concrete roads in J.C. Nagar i...</td>\n",
       "      <td>Krishnegowda</td>\n",
       "      <td>9845003091</td>\n",
       "      <td>068-16-000006</td>\n",
       "    </tr>\n",
       "    <tr>\n",
       "      <th>38182</th>\n",
       "      <td>38183</td>\n",
       "      <td>315261</td>\n",
       "      <td>&lt;a href=\"#\" onclick=\"vssFillData(315261,'194-1...</td>\n",
       "      <td>KRIDL BHUSIRI  ACCOU&lt;br/&gt;0000000000</td>\n",
       "      <td>BR - 000291 / 11-Feb-2020&lt;br/&gt;CBR -  / &lt;br/&gt;Rt...</td>\n",
       "      <td>4933810</td>\n",
       "      <td>4220575</td>\n",
       "      <td>713235</td>\n",
       "      <td>Improvements to roads and drains at  Gottigere...</td>\n",
       "      <td>KRIDL BHUSIRI  ACCOU</td>\n",
       "      <td>0000000000</td>\n",
       "      <td>194-19-000033</td>\n",
       "    </tr>\n",
       "    <tr>\n",
       "      <th>37764</th>\n",
       "      <td>37765</td>\n",
       "      <td>448034</td>\n",
       "      <td>&lt;a href=\"#\" onclick=\"vssFillData(448034,'102-2...</td>\n",
       "      <td>KRIDL BHUSIRI  ACCOU&lt;br/&gt;0000000000</td>\n",
       "      <td>BR - 000077 / 04-Aug-2021&lt;br/&gt;CBR -  / &lt;br/&gt;Rt...</td>\n",
       "      <td>3689909</td>\n",
       "      <td>3289694</td>\n",
       "      <td>400215</td>\n",
       "      <td>Improvements and asphalting to Sannaki bayalu ...</td>\n",
       "      <td>KRIDL BHUSIRI  ACCOU</td>\n",
       "      <td>0000000000</td>\n",
       "      <td>102-20-000031</td>\n",
       "    </tr>\n",
       "  </tbody>\n",
       "</table>\n",
       "</div>"
      ],
      "text/plain": [
       "        slno      id                                          wodetails  \\\n",
       "13968  13969  235575  <a href=\"#\" onclick=\"vssFillData(235575,'122-1...   \n",
       "42778  42779  539990  <a href=\"#\" onclick=\"vssFillData(539990,'028-2...   \n",
       "3255    3256   53509  <a href=\"#\" onclick=\"vssFillData(53509,'068-16...   \n",
       "38182  38183  315261  <a href=\"#\" onclick=\"vssFillData(315261,'194-1...   \n",
       "37764  37765  448034  <a href=\"#\" onclick=\"vssFillData(448034,'102-2...   \n",
       "\n",
       "                                   contractor  \\\n",
       "13968                M/s KRIDL<br/>8553333555   \n",
       "42778  022630 NEWTECHENGINEERS<br/>9880801223   \n",
       "3255              Krishnegowda<br/>9845003091   \n",
       "38182     KRIDL BHUSIRI  ACCOU<br/>0000000000   \n",
       "37764     KRIDL BHUSIRI  ACCOU<br/>0000000000   \n",
       "\n",
       "                                                brnumber   amount     nett  \\\n",
       "13968  BR - 000207 / 11-Mar-2019<br/>CBR - 001590 / 1...  9919000  8640867   \n",
       "42778  BR - 000107 / 25-Aug-2022<br/>CBR -  / <br/>Rt...   655475   608469   \n",
       "3255   BR - 000429 / 11-Aug-2016<br/>CBR - 000925 / 0...   699833   609113   \n",
       "38182  BR - 000291 / 11-Feb-2020<br/>CBR -  / <br/>Rt...  4933810  4220575   \n",
       "37764  BR - 000077 / 04-Aug-2021<br/>CBR -  / <br/>Rt...  3689909  3289694   \n",
       "\n",
       "       deduction                                               work  \\\n",
       "13968    1278133  Development of Roads and  Drains in Ward No 12...   \n",
       "42778      47006  Operation and Maintenance of Street lights com...   \n",
       "3255       90720  Construction of Concrete roads in J.C. Nagar i...   \n",
       "38182     713235  Improvements to roads and drains at  Gottigere...   \n",
       "37764     400215  Improvements and asphalting to Sannaki bayalu ...   \n",
       "\n",
       "               contractor_name      number         job_no  \n",
       "13968                M/s KRIDL  8553333555  122-17-000042  \n",
       "42778  022630 NEWTECHENGINEERS  9880801223  028-22-000002  \n",
       "3255              Krishnegowda  9845003091  068-16-000006  \n",
       "38182     KRIDL BHUSIRI  ACCOU  0000000000  194-19-000033  \n",
       "37764     KRIDL BHUSIRI  ACCOU  0000000000  102-20-000031  "
      ]
     },
     "execution_count": 14,
     "metadata": {},
     "output_type": "execute_result"
    }
   ],
   "source": [
    "df.sample(5)"
   ]
  },
  {
   "cell_type": "code",
   "execution_count": 15,
   "metadata": {
    "ExecuteTime": {
     "end_time": "2023-04-16T19:44:52.036185Z",
     "start_time": "2023-04-16T19:44:51.961222Z"
    }
   },
   "outputs": [],
   "source": [
    "# Extract only the xxx-xx-xxxxxx format from the job number\n",
    "df['job_no_cleaned'] = df['job_no'].str.extract(r'(\\d+-\\d+-\\d+)')"
   ]
  },
  {
   "cell_type": "code",
   "execution_count": 16,
   "metadata": {
    "ExecuteTime": {
     "end_time": "2023-04-16T19:44:52.910083Z",
     "start_time": "2023-04-16T19:44:52.855256Z"
    }
   },
   "outputs": [
    {
     "data": {
      "text/html": [
       "<div>\n",
       "<style scoped>\n",
       "    .dataframe tbody tr th:only-of-type {\n",
       "        vertical-align: middle;\n",
       "    }\n",
       "\n",
       "    .dataframe tbody tr th {\n",
       "        vertical-align: top;\n",
       "    }\n",
       "\n",
       "    .dataframe thead th {\n",
       "        text-align: right;\n",
       "    }\n",
       "</style>\n",
       "<table border=\"1\" class=\"dataframe\">\n",
       "  <thead>\n",
       "    <tr style=\"text-align: right;\">\n",
       "      <th></th>\n",
       "      <th>slno</th>\n",
       "      <th>id</th>\n",
       "      <th>job_no_cleaned</th>\n",
       "      <th>work</th>\n",
       "      <th>contractor_name</th>\n",
       "      <th>number</th>\n",
       "      <th>brnumber</th>\n",
       "      <th>amount</th>\n",
       "      <th>nett</th>\n",
       "      <th>deduction</th>\n",
       "      <th>wodetails</th>\n",
       "      <th>contractor</th>\n",
       "      <th>job_no</th>\n",
       "    </tr>\n",
       "  </thead>\n",
       "  <tbody>\n",
       "    <tr>\n",
       "      <th>0</th>\n",
       "      <td>1</td>\n",
       "      <td>132190</td>\n",
       "      <td>174-17-000088</td>\n",
       "      <td>Construction and Remodeling of SWD 27th main B...</td>\n",
       "      <td>M/s. KRIDL</td>\n",
       "      <td>9480828220</td>\n",
       "      <td>BR - 000067 / 23-Dec-2017&lt;br/&gt;CBR - 008808 / 0...</td>\n",
       "      <td>11197236</td>\n",
       "      <td>10246036</td>\n",
       "      <td>951200</td>\n",
       "      <td>&lt;a href=\"#\" onclick=\"vssFillData(132190,'174-1...</td>\n",
       "      <td>M/s. KRIDL&lt;br/&gt;9480828220</td>\n",
       "      <td>174-17-000088</td>\n",
       "    </tr>\n",
       "    <tr>\n",
       "      <th>1</th>\n",
       "      <td>2</td>\n",
       "      <td>129900</td>\n",
       "      <td>094-17-000035</td>\n",
       "      <td>Renavation of statistics Office building at wa...</td>\n",
       "      <td>Technical Manager KRIDL West</td>\n",
       "      <td>9483161122</td>\n",
       "      <td>BR - 000031 / 15-Dec-2017&lt;br/&gt;CBR - 008819 / 0...</td>\n",
       "      <td>19978729</td>\n",
       "      <td>18056814</td>\n",
       "      <td>1921915</td>\n",
       "      <td>&lt;a href=\"#\" onclick=\"vssFillData(129900,'094-1...</td>\n",
       "      <td>Technical Manager KRIDL West&lt;br/&gt;9483161122</td>\n",
       "      <td>094-17-000035</td>\n",
       "    </tr>\n",
       "    <tr>\n",
       "      <th>2</th>\n",
       "      <td>3</td>\n",
       "      <td>132627</td>\n",
       "      <td>068-17-000151</td>\n",
       "      <td>Improvements and Asphalting to Road from Mahal...</td>\n",
       "      <td>Executive Engineer KRIDL</td>\n",
       "      <td>9611846039</td>\n",
       "      <td>BR - 000012 / 23-Dec-2017&lt;br/&gt;CBR - 008826 / 0...</td>\n",
       "      <td>7372590</td>\n",
       "      <td>6648140</td>\n",
       "      <td>724450</td>\n",
       "      <td>&lt;a href=\"#\" onclick=\"vssFillData(132627,'068-1...</td>\n",
       "      <td>Executive Engineer KRIDL&lt;br/&gt;9611846039</td>\n",
       "      <td>068-17-000151</td>\n",
       "    </tr>\n",
       "    <tr>\n",
       "      <th>3</th>\n",
       "      <td>4</td>\n",
       "      <td>132698</td>\n",
       "      <td>040-17-000117</td>\n",
       "      <td>Construction of compound wall and other infras...</td>\n",
       "      <td>M/s.KRIDL</td>\n",
       "      <td>9845235505</td>\n",
       "      <td>BR - 000287 / 26-Dec-2017&lt;br/&gt;CBR - 008827 / 0...</td>\n",
       "      <td>289434</td>\n",
       "      <td>263185</td>\n",
       "      <td>26249</td>\n",
       "      <td>&lt;a href=\"#\" onclick=\"vssFillData(132698,'040-1...</td>\n",
       "      <td>M/s.KRIDL&lt;br/&gt;9845235505</td>\n",
       "      <td>040-17-000117</td>\n",
       "    </tr>\n",
       "    <tr>\n",
       "      <th>4</th>\n",
       "      <td>5</td>\n",
       "      <td>132070</td>\n",
       "      <td>089-17-000034</td>\n",
       "      <td>Essential repairs and improvements to class ro...</td>\n",
       "      <td>Manjunath D</td>\n",
       "      <td>8022975812</td>\n",
       "      <td>BR - 000076 / 22-Dec-2017&lt;br/&gt;CBR - 008828 / 0...</td>\n",
       "      <td>3191400</td>\n",
       "      <td>3093470</td>\n",
       "      <td>97930</td>\n",
       "      <td>&lt;a href=\"#\" onclick=\"vssFillData(132070,'089-1...</td>\n",
       "      <td>Manjunath D&lt;br/&gt;8022975812</td>\n",
       "      <td>089-17-000034</td>\n",
       "    </tr>\n",
       "    <tr>\n",
       "      <th>...</th>\n",
       "      <td>...</td>\n",
       "      <td>...</td>\n",
       "      <td>...</td>\n",
       "      <td>...</td>\n",
       "      <td>...</td>\n",
       "      <td>...</td>\n",
       "      <td>...</td>\n",
       "      <td>...</td>\n",
       "      <td>...</td>\n",
       "      <td>...</td>\n",
       "      <td>...</td>\n",
       "      <td>...</td>\n",
       "      <td>...</td>\n",
       "    </tr>\n",
       "    <tr>\n",
       "      <th>44684</th>\n",
       "      <td>44685</td>\n",
       "      <td>557863</td>\n",
       "      <td>132-19-000035</td>\n",
       "      <td>Construction of commercial complex in Vijayana...</td>\n",
       "      <td>024025 ROHITH H</td>\n",
       "      <td>9916643566</td>\n",
       "      <td>BR - 000057 / 08-Dec-2022&lt;br/&gt;CBR -  / &lt;br/&gt;Rt...</td>\n",
       "      <td>9317950</td>\n",
       "      <td>8282940</td>\n",
       "      <td>1035010</td>\n",
       "      <td>&lt;a href=\"#\" onclick=\"vssFillData(557863,'132-1...</td>\n",
       "      <td>024025 ROHITH H&lt;br/&gt;9916643566</td>\n",
       "      <td>132-19-000035</td>\n",
       "    </tr>\n",
       "    <tr>\n",
       "      <th>44685</th>\n",
       "      <td>44686</td>\n",
       "      <td>560091</td>\n",
       "      <td>044-23-000001</td>\n",
       "      <td>Package-6 comprehensive development of buildin...</td>\n",
       "      <td>023050 SKBASAVARAJU</td>\n",
       "      <td>9448372828</td>\n",
       "      <td>BR - 000269 / 28-Dec-2022&lt;br/&gt;CBR -  / &lt;br/&gt;Rt...</td>\n",
       "      <td>75225685</td>\n",
       "      <td>68710668</td>\n",
       "      <td>6515017</td>\n",
       "      <td>&lt;a href=\"#\" onclick=\"vssFillData(560091,'044-2...</td>\n",
       "      <td>023050 SKBASAVARAJU&lt;br/&gt;9448372828</td>\n",
       "      <td>044-23-000001</td>\n",
       "    </tr>\n",
       "    <tr>\n",
       "      <th>44686</th>\n",
       "      <td>44687</td>\n",
       "      <td>560239</td>\n",
       "      <td>307-20-000020</td>\n",
       "      <td>Construction and Remodeling of Primary Seconda...</td>\n",
       "      <td>ACR PROJECTS</td>\n",
       "      <td>9663555588</td>\n",
       "      <td>BR - 000104 / 19-Dec-2022&lt;br/&gt;CBR -  / &lt;br/&gt;Rt...</td>\n",
       "      <td>26012000</td>\n",
       "      <td>25056988</td>\n",
       "      <td>955012</td>\n",
       "      <td>&lt;a href=\"#\" onclick=\"vssFillData(560239,'307-2...</td>\n",
       "      <td>ACR PROJECTS&lt;br/&gt;9663555588</td>\n",
       "      <td>307-20-000020</td>\n",
       "    </tr>\n",
       "    <tr>\n",
       "      <th>44687</th>\n",
       "      <td>44688</td>\n",
       "      <td>561667</td>\n",
       "      <td>307-20-000002</td>\n",
       "      <td>Construction and Remodeling of PrimarySecondar...</td>\n",
       "      <td>STAR INFRATECH</td>\n",
       "      <td>9845866476</td>\n",
       "      <td>BR - 000106 / 28-Dec-2022&lt;br/&gt;CBR -  / &lt;br/&gt;Rt...</td>\n",
       "      <td>11329920</td>\n",
       "      <td>10673571</td>\n",
       "      <td>656349</td>\n",
       "      <td>&lt;a href=\"#\" onclick=\"vssFillData(561667,'307-2...</td>\n",
       "      <td>STAR INFRATECH&lt;br/&gt;9845866476</td>\n",
       "      <td>307-20-000002</td>\n",
       "    </tr>\n",
       "    <tr>\n",
       "      <th>44688</th>\n",
       "      <td>44689</td>\n",
       "      <td>562120</td>\n",
       "      <td>304-20-000195</td>\n",
       "      <td>Improvement to road drain and asphalting to 05...</td>\n",
       "      <td>CGC INFRA PROJECTS P</td>\n",
       "      <td>9448296703</td>\n",
       "      <td>BR - 000058 / 31-Dec-2022&lt;br/&gt;CBR -  / &lt;br/&gt;Rt...</td>\n",
       "      <td>50413920</td>\n",
       "      <td>47798840</td>\n",
       "      <td>2615080</td>\n",
       "      <td>&lt;a href=\"#\" onclick=\"vssFillData(562120,'304-2...</td>\n",
       "      <td>CGC INFRA PROJECTS P&lt;br/&gt;9448296703</td>\n",
       "      <td>304-20-000195</td>\n",
       "    </tr>\n",
       "  </tbody>\n",
       "</table>\n",
       "<p>44689 rows × 13 columns</p>\n",
       "</div>"
      ],
      "text/plain": [
       "        slno      id job_no_cleaned  \\\n",
       "0          1  132190  174-17-000088   \n",
       "1          2  129900  094-17-000035   \n",
       "2          3  132627  068-17-000151   \n",
       "3          4  132698  040-17-000117   \n",
       "4          5  132070  089-17-000034   \n",
       "...      ...     ...            ...   \n",
       "44684  44685  557863  132-19-000035   \n",
       "44685  44686  560091  044-23-000001   \n",
       "44686  44687  560239  307-20-000020   \n",
       "44687  44688  561667  307-20-000002   \n",
       "44688  44689  562120  304-20-000195   \n",
       "\n",
       "                                                    work  \\\n",
       "0      Construction and Remodeling of SWD 27th main B...   \n",
       "1      Renavation of statistics Office building at wa...   \n",
       "2      Improvements and Asphalting to Road from Mahal...   \n",
       "3      Construction of compound wall and other infras...   \n",
       "4      Essential repairs and improvements to class ro...   \n",
       "...                                                  ...   \n",
       "44684  Construction of commercial complex in Vijayana...   \n",
       "44685  Package-6 comprehensive development of buildin...   \n",
       "44686  Construction and Remodeling of Primary Seconda...   \n",
       "44687  Construction and Remodeling of PrimarySecondar...   \n",
       "44688  Improvement to road drain and asphalting to 05...   \n",
       "\n",
       "                    contractor_name      number  \\\n",
       "0                        M/s. KRIDL  9480828220   \n",
       "1      Technical Manager KRIDL West  9483161122   \n",
       "2          Executive Engineer KRIDL  9611846039   \n",
       "3                         M/s.KRIDL  9845235505   \n",
       "4                       Manjunath D  8022975812   \n",
       "...                             ...         ...   \n",
       "44684               024025 ROHITH H  9916643566   \n",
       "44685           023050 SKBASAVARAJU  9448372828   \n",
       "44686                  ACR PROJECTS  9663555588   \n",
       "44687                STAR INFRATECH  9845866476   \n",
       "44688          CGC INFRA PROJECTS P  9448296703   \n",
       "\n",
       "                                                brnumber    amount      nett  \\\n",
       "0      BR - 000067 / 23-Dec-2017<br/>CBR - 008808 / 0...  11197236  10246036   \n",
       "1      BR - 000031 / 15-Dec-2017<br/>CBR - 008819 / 0...  19978729  18056814   \n",
       "2      BR - 000012 / 23-Dec-2017<br/>CBR - 008826 / 0...   7372590   6648140   \n",
       "3      BR - 000287 / 26-Dec-2017<br/>CBR - 008827 / 0...    289434    263185   \n",
       "4      BR - 000076 / 22-Dec-2017<br/>CBR - 008828 / 0...   3191400   3093470   \n",
       "...                                                  ...       ...       ...   \n",
       "44684  BR - 000057 / 08-Dec-2022<br/>CBR -  / <br/>Rt...   9317950   8282940   \n",
       "44685  BR - 000269 / 28-Dec-2022<br/>CBR -  / <br/>Rt...  75225685  68710668   \n",
       "44686  BR - 000104 / 19-Dec-2022<br/>CBR -  / <br/>Rt...  26012000  25056988   \n",
       "44687  BR - 000106 / 28-Dec-2022<br/>CBR -  / <br/>Rt...  11329920  10673571   \n",
       "44688  BR - 000058 / 31-Dec-2022<br/>CBR -  / <br/>Rt...  50413920  47798840   \n",
       "\n",
       "       deduction                                          wodetails  \\\n",
       "0         951200  <a href=\"#\" onclick=\"vssFillData(132190,'174-1...   \n",
       "1        1921915  <a href=\"#\" onclick=\"vssFillData(129900,'094-1...   \n",
       "2         724450  <a href=\"#\" onclick=\"vssFillData(132627,'068-1...   \n",
       "3          26249  <a href=\"#\" onclick=\"vssFillData(132698,'040-1...   \n",
       "4          97930  <a href=\"#\" onclick=\"vssFillData(132070,'089-1...   \n",
       "...          ...                                                ...   \n",
       "44684    1035010  <a href=\"#\" onclick=\"vssFillData(557863,'132-1...   \n",
       "44685    6515017  <a href=\"#\" onclick=\"vssFillData(560091,'044-2...   \n",
       "44686     955012  <a href=\"#\" onclick=\"vssFillData(560239,'307-2...   \n",
       "44687     656349  <a href=\"#\" onclick=\"vssFillData(561667,'307-2...   \n",
       "44688    2615080  <a href=\"#\" onclick=\"vssFillData(562120,'304-2...   \n",
       "\n",
       "                                        contractor         job_no  \n",
       "0                        M/s. KRIDL<br/>9480828220  174-17-000088  \n",
       "1      Technical Manager KRIDL West<br/>9483161122  094-17-000035  \n",
       "2          Executive Engineer KRIDL<br/>9611846039  068-17-000151  \n",
       "3                         M/s.KRIDL<br/>9845235505  040-17-000117  \n",
       "4                       Manjunath D<br/>8022975812  089-17-000034  \n",
       "...                                            ...            ...  \n",
       "44684               024025 ROHITH H<br/>9916643566  132-19-000035  \n",
       "44685           023050 SKBASAVARAJU<br/>9448372828  044-23-000001  \n",
       "44686                  ACR PROJECTS<br/>9663555588  307-20-000020  \n",
       "44687                STAR INFRATECH<br/>9845866476  307-20-000002  \n",
       "44688          CGC INFRA PROJECTS P<br/>9448296703  304-20-000195  \n",
       "\n",
       "[44689 rows x 13 columns]"
      ]
     },
     "execution_count": 16,
     "metadata": {},
     "output_type": "execute_result"
    }
   ],
   "source": [
    "df[['slno', 'id', 'job_no_cleaned', 'work', 'contractor_name', 'number', 'brnumber', 'amount', 'nett', 'deduction', 'wodetails', 'contractor','job_no']]"
   ]
  },
  {
   "cell_type": "code",
   "execution_count": 17,
   "metadata": {
    "ExecuteTime": {
     "end_time": "2023-04-16T19:45:18.617794Z",
     "start_time": "2023-04-16T19:45:18.081127Z"
    }
   },
   "outputs": [],
   "source": [
    "# Define a regular expression pattern to extract the ward number\n",
    "pattern = r'(W\\s*N|Ward\\s*no|Ward\\s*Number|ward\\s*number|ward\\s*no.|WN|wn|wn)(\\s*)?(\\d+)'\n",
    "\n",
    "\n",
    "df['work_lowercase'] = df['work'].str.lower()\n",
    "\n",
    "# Extract the ward number using the regular expression pattern\n",
    "df['ward_extracted'] = df['work_lowercase'].str.extract(pattern, flags=re.IGNORECASE)[2]"
   ]
  },
  {
   "cell_type": "code",
   "execution_count": 32,
   "metadata": {
    "ExecuteTime": {
     "end_time": "2023-04-16T17:09:12.262197Z",
     "start_time": "2023-04-16T17:09:12.191615Z"
    }
   },
   "outputs": [],
   "source": [
    "# Extract the 'job_id_cat' by slicing the 'job_no' column\n",
    "# df['job_id_cat'] = df['job_no_cleaned'].str.split('-').str[:2].str.join('-')"
   ]
  },
  {
   "cell_type": "code",
   "execution_count": 34,
   "metadata": {
    "ExecuteTime": {
     "end_time": "2023-04-16T17:09:41.184573Z",
     "start_time": "2023-04-16T17:09:20.939531Z"
    }
   },
   "outputs": [],
   "source": [
    "df[['slno', 'id', 'job_no_cleaned', 'ward_extracted', 'work', 'contractor_name', 'number', 'brnumber', 'amount', 'nett', 'deduction', 'wodetails', 'contractor','job_no']]\\\n",
    ".to_excel(\"BBMP_2018_to_2023_v2.xlsx\", index=False)"
   ]
  }
 ],
 "metadata": {
  "kernelspec": {
   "display_name": "Python 3.7 (Tensorflow 2.4)",
   "language": "python",
   "name": "tf-2.4"
  },
  "language_info": {
   "codemirror_mode": {
    "name": "ipython",
    "version": 3
   },
   "file_extension": ".py",
   "mimetype": "text/x-python",
   "name": "python",
   "nbconvert_exporter": "python",
   "pygments_lexer": "ipython3",
   "version": "3.7.7"
  }
 },
 "nbformat": 4,
 "nbformat_minor": 4
}
